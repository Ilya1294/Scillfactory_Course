{
 "cells": [
  {
   "cell_type": "code",
   "execution_count": 1,
   "metadata": {},
   "outputs": [
    {
     "name": "stdout",
     "output_type": "stream",
     "text": [
      "Введите число от 1 до 100: 34\n",
      "Загаданное число меньше:  18\n",
      "Загаданное число больше:  40\n",
      "Загаданное число меньше:  32\n",
      "Загаданное число меньше:  32\n",
      "Загаданное число больше:  36\n",
      "34\n",
      "Число угадано с 6 попытки\n"
     ]
    }
   ],
   "source": [
    "import random\n",
    "number = int(input(\"Введите число от 1 до 100: \"))\n",
    "\n",
    "x = 1\n",
    "y = 101\n",
    "guess = random.randint (x, y)\n",
    "count = 1\n",
    "\n",
    "if number == guess:\n",
    "    print('Вы угадали c первой попытки!')\n",
    "else:\n",
    "    while guess != number:\n",
    "        if number > guess:\n",
    "            print(\"Загаданное число меньше: \", guess)\n",
    "            x = guess\n",
    "            guess = random.randint(x, y)\n",
    "            count += 1\n",
    "        elif number < guess:\n",
    "            print(\"Загаданное число больше: \", guess)\n",
    "            y = guess\n",
    "            guess = random.randint(x, y)\n",
    "            count += 1\n",
    "    print (number)\n",
    "    print ('Число угадано с', count, 'попытки')"
   ]
  }
 ],
 "metadata": {
  "kernelspec": {
   "display_name": "Python 3",
   "language": "python",
   "name": "python3"
  },
  "language_info": {
   "codemirror_mode": {
    "name": "ipython",
    "version": 3
   },
   "file_extension": ".py",
   "mimetype": "text/x-python",
   "name": "python",
   "nbconvert_exporter": "python",
   "pygments_lexer": "ipython3",
   "version": "3.8.5"
  }
 },
 "nbformat": 4,
 "nbformat_minor": 4
}
